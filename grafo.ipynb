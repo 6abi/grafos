{
 "cells": [
  {
   "cell_type": "code",
   "execution_count": 320,
   "outputs": [],
   "source": [
    "#imports necessarios\n",
    "import pandas as pd\n",
    "import networkx as nx\n",
    "import matplotlib.pyplot as plt\n",
    "from matplotlib.pyplot import figure\n",
    "import numpy as np"
   ],
   "metadata": {
    "collapsed": false,
    "pycharm": {
     "name": "#%%\n"
    }
   }
  },
  {
   "cell_type": "code",
   "execution_count": 321,
   "outputs": [
    {
     "data": {
      "text/plain": "             S0       S1       S2      S3\nswitch                                   \nS0          NaN  [3][10]   [2][1]  [1][1]\nS1      [2][10]      NaN  [1][10]       0\nS2       [1][1]  [4][10]      NaN       0\nS3       [4][1]        0        0     NaN",
      "text/html": "<div>\n<style scoped>\n    .dataframe tbody tr th:only-of-type {\n        vertical-align: middle;\n    }\n\n    .dataframe tbody tr th {\n        vertical-align: top;\n    }\n\n    .dataframe thead th {\n        text-align: right;\n    }\n</style>\n<table border=\"1\" class=\"dataframe\">\n  <thead>\n    <tr style=\"text-align: right;\">\n      <th></th>\n      <th>S0</th>\n      <th>S1</th>\n      <th>S2</th>\n      <th>S3</th>\n    </tr>\n    <tr>\n      <th>switch</th>\n      <th></th>\n      <th></th>\n      <th></th>\n      <th></th>\n    </tr>\n  </thead>\n  <tbody>\n    <tr>\n      <th>S0</th>\n      <td>NaN</td>\n      <td>[3][10]</td>\n      <td>[2][1]</td>\n      <td>[1][1]</td>\n    </tr>\n    <tr>\n      <th>S1</th>\n      <td>[2][10]</td>\n      <td>NaN</td>\n      <td>[1][10]</td>\n      <td>0</td>\n    </tr>\n    <tr>\n      <th>S2</th>\n      <td>[1][1]</td>\n      <td>[4][10]</td>\n      <td>NaN</td>\n      <td>0</td>\n    </tr>\n    <tr>\n      <th>S3</th>\n      <td>[4][1]</td>\n      <td>0</td>\n      <td>0</td>\n      <td>NaN</td>\n    </tr>\n  </tbody>\n</table>\n</div>"
     },
     "execution_count": 321,
     "metadata": {},
     "output_type": "execute_result"
    }
   ],
   "source": [
    "#leitura csv\n",
    "file = \"data.csv\"\n",
    "df = pd.read_csv(file, delimiter=\";\")\n",
    "df = df.set_index(\"switch\")\n",
    "df"
   ],
   "metadata": {
    "collapsed": false,
    "pycharm": {
     "name": "#%%\n"
    }
   }
  },
  {
   "cell_type": "code",
   "execution_count": 322,
   "outputs": [
    {
     "data": {
      "text/plain": "             S0       S1       S2      S3\nswitch                                   \nS0            0  [3][10]   [2][1]  [1][1]\nS1      [2][10]        0  [1][10]       0\nS2       [1][1]  [4][10]        0       0\nS3       [4][1]        0        0       0",
      "text/html": "<div>\n<style scoped>\n    .dataframe tbody tr th:only-of-type {\n        vertical-align: middle;\n    }\n\n    .dataframe tbody tr th {\n        vertical-align: top;\n    }\n\n    .dataframe thead th {\n        text-align: right;\n    }\n</style>\n<table border=\"1\" class=\"dataframe\">\n  <thead>\n    <tr style=\"text-align: right;\">\n      <th></th>\n      <th>S0</th>\n      <th>S1</th>\n      <th>S2</th>\n      <th>S3</th>\n    </tr>\n    <tr>\n      <th>switch</th>\n      <th></th>\n      <th></th>\n      <th></th>\n      <th></th>\n    </tr>\n  </thead>\n  <tbody>\n    <tr>\n      <th>S0</th>\n      <td>0</td>\n      <td>[3][10]</td>\n      <td>[2][1]</td>\n      <td>[1][1]</td>\n    </tr>\n    <tr>\n      <th>S1</th>\n      <td>[2][10]</td>\n      <td>0</td>\n      <td>[1][10]</td>\n      <td>0</td>\n    </tr>\n    <tr>\n      <th>S2</th>\n      <td>[1][1]</td>\n      <td>[4][10]</td>\n      <td>0</td>\n      <td>0</td>\n    </tr>\n    <tr>\n      <th>S3</th>\n      <td>[4][1]</td>\n      <td>0</td>\n      <td>0</td>\n      <td>0</td>\n    </tr>\n  </tbody>\n</table>\n</div>"
     },
     "execution_count": 322,
     "metadata": {},
     "output_type": "execute_result"
    }
   ],
   "source": [
    "#Lidando com NaN e \"0\"\n",
    "df = df.replace(np.nan,0)\n",
    "df = df.replace(\"0\",0)\n",
    "df"
   ],
   "metadata": {
    "collapsed": false,
    "pycharm": {
     "name": "#%%\n"
    }
   }
  },
  {
   "cell_type": "code",
   "execution_count": 323,
   "outputs": [
    {
     "data": {
      "text/plain": "           S0     S1     S2     S3\nswitch                            \nS0      False   True   True   True\nS1       True  False   True  False\nS2       True   True  False  False\nS3       True  False  False  False",
      "text/html": "<div>\n<style scoped>\n    .dataframe tbody tr th:only-of-type {\n        vertical-align: middle;\n    }\n\n    .dataframe tbody tr th {\n        vertical-align: top;\n    }\n\n    .dataframe thead th {\n        text-align: right;\n    }\n</style>\n<table border=\"1\" class=\"dataframe\">\n  <thead>\n    <tr style=\"text-align: right;\">\n      <th></th>\n      <th>S0</th>\n      <th>S1</th>\n      <th>S2</th>\n      <th>S3</th>\n    </tr>\n    <tr>\n      <th>switch</th>\n      <th></th>\n      <th></th>\n      <th></th>\n      <th></th>\n    </tr>\n  </thead>\n  <tbody>\n    <tr>\n      <th>S0</th>\n      <td>False</td>\n      <td>True</td>\n      <td>True</td>\n      <td>True</td>\n    </tr>\n    <tr>\n      <th>S1</th>\n      <td>True</td>\n      <td>False</td>\n      <td>True</td>\n      <td>False</td>\n    </tr>\n    <tr>\n      <th>S2</th>\n      <td>True</td>\n      <td>True</td>\n      <td>False</td>\n      <td>False</td>\n    </tr>\n    <tr>\n      <th>S3</th>\n      <td>True</td>\n      <td>False</td>\n      <td>False</td>\n      <td>False</td>\n    </tr>\n  </tbody>\n</table>\n</div>"
     },
     "execution_count": 323,
     "metadata": {},
     "output_type": "execute_result"
    }
   ],
   "source": [
    "#verifica conexão dos nós\n",
    "df1 = df != 0\n",
    "df1 = df1.reset_index()\n",
    "df1 = df1.set_index(\"switch\")\n",
    "df1"
   ],
   "metadata": {
    "collapsed": false,
    "pycharm": {
     "name": "#%%\n"
    }
   }
  },
  {
   "cell_type": "code",
   "execution_count": 324,
   "outputs": [],
   "source": [
    "#colunas: fonte e alvos\n",
    "source = df1.iloc[:,1:].columns\n",
    "targets = df1.iloc[:,1:].columns"
   ],
   "metadata": {
    "collapsed": false,
    "pycharm": {
     "name": "#%%\n"
    }
   }
  },
  {
   "cell_type": "code",
   "execution_count": 325,
   "outputs": [
    {
     "data": {
      "text/plain": "Index(['S1', 'S2', 'S3'], dtype='object')"
     },
     "execution_count": 325,
     "metadata": {},
     "output_type": "execute_result"
    }
   ],
   "source": [
    "source"
   ],
   "metadata": {
    "collapsed": false,
    "pycharm": {
     "name": "#%%\n"
    }
   }
  },
  {
   "cell_type": "code",
   "execution_count": 326,
   "outputs": [
    {
     "data": {
      "text/plain": "Index(['S1', 'S2', 'S3'], dtype='object')"
     },
     "execution_count": 326,
     "metadata": {},
     "output_type": "execute_result"
    }
   ],
   "source": [
    "targets"
   ],
   "metadata": {
    "collapsed": false,
    "pycharm": {
     "name": "#%%\n"
    }
   }
  },
  {
   "cell_type": "code",
   "execution_count": 327,
   "outputs": [],
   "source": [
    "#populando os nós\n",
    "G =nx.from_pandas_adjacency(df1, create_using = nx.Graph())\n",
    "pos=nx.spring_layout(G) # positions for all nodes"
   ],
   "metadata": {
    "collapsed": false,
    "pycharm": {
     "name": "#%%\n"
    }
   }
  },
  {
   "cell_type": "code",
   "execution_count": 328,
   "outputs": [
    {
     "name": "stdout",
     "output_type": "stream",
     "text": [
      "Name: \n",
      "Type: Graph\n",
      "Number of nodes: 4\n",
      "Number of edges: 4\n",
      "Average degree:   2.0000\n"
     ]
    }
   ],
   "source": [
    "print(nx.info(G))"
   ],
   "metadata": {
    "collapsed": false,
    "pycharm": {
     "name": "#%%\n"
    }
   }
  },
  {
   "cell_type": "code",
   "execution_count": 329,
   "outputs": [
    {
     "name": "stdout",
     "output_type": "stream",
     "text": [
      "Grau de centralidade\n",
      "S0 1.000\n",
      "S1 0.667\n",
      "S2 0.667\n",
      "S3 0.333\n"
     ]
    }
   ],
   "source": [
    "print(\"Grau de centralidade\")\n",
    "d = nx.degree_centrality(G)\n",
    "size_node = [0]\n",
    "for v in G.nodes():\n",
    "    print(f\"{v:2} {d[v]:.3f}\")"
   ],
   "metadata": {
    "collapsed": false,
    "pycharm": {
     "name": "#%%\n"
    }
   }
  },
  {
   "cell_type": "code",
   "execution_count": 333,
   "outputs": [
    {
     "data": {
      "text/plain": "{('S0',\n  'S1'): Text(-0.4999999940375597, -0.5000000437113883, \"{'weight': True}\"),\n ('S0', 'S2'): Text(0.0, 4.371138828673793e-08, \"{'weight': True}\"),\n ('S0',\n  'S3'): Text(-0.500000168883119, 0.4999999562886117, \"{'weight': True}\"),\n ('S1',\n  'S2'): Text(0.5000000059624403, -0.4999999125772234, \"{'weight': True}\")}"
     },
     "execution_count": 333,
     "metadata": {},
     "output_type": "execute_result"
    },
    {
     "data": {
      "text/plain": "<Figure size 864x864 with 1 Axes>",
      "image/png": "[encoded data removed]"
     },
     "metadata": {},
     "output_type": "display_data"
    }
   ],
   "source": [
    "#grafo\n",
    "figure(figsize=(12,12))\n",
    "pos=nx.shell_layout(G)\n",
    "nx.draw_shell(G, with_labels=True, node_size=6000)\n",
    "nx.draw_networkx_labels(G,pos=pos)\n",
    "nx.draw_networkx_edge_labels(G,pos=pos)\n"
   ],
   "metadata": {
    "collapsed": false,
    "pycharm": {
     "name": "#%%\n"
    }
   }
  },
  {
   "cell_type": "code",
   "execution_count": 331,
   "outputs": [],
   "source": [
    "import matplotlib.pyplot as plt\n",
    "\n",
    "plt.show()"
   ],
   "metadata": {
    "collapsed": false,
    "pycharm": {
     "name": "#%%\n"
    }
   }
  }
 ],
 "metadata": {
  "kernelspec": {
   "display_name": "Python 3",
   "language": "python",
   "name": "python3"
  },
  "language_info": {
   "codemirror_mode": {
    "name": "ipython",
    "version": 2
   },
   "file_extension": ".py",
   "mimetype": "text/x-python",
   "name": "python",
   "nbconvert_exporter": "python",
   "pygments_lexer": "ipython2",
   "version": "2.7.6"
  }
 },
 "nbformat": 4,
 "nbformat_minor": 0
}