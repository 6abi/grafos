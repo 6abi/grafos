{
 "cells": [
  {
   "cell_type": "code",
   "execution_count": 551,
   "outputs": [],
   "source": [
    "#imports\n",
    "import os\n",
    "import pandas as pd\n",
    "import networkx as nx\n",
    "from networkx.readwrite import json_graph\n",
    "import matplotlib.pyplot as plt\n",
    "import numpy as np\n",
    "import json\n",
    "from openpyxl import load_workbook\n",
    "from unicodedata import normalize"
   ],
   "metadata": {
    "collapsed": false,
    "pycharm": {
     "name": "#%%\n"
    }
   }
  },
  {
   "cell_type": "code",
   "execution_count": 552,
   "outputs": [],
   "source": [
    "dir = \"planilhas/\"\n",
    "\n",
    "def get_file_name(filepath):\n",
    "    \"\"\"Lista os arquivos da pasta\"\"\"\n",
    "    f = os.listdir(filepath)\n",
    "    files = [os.path.splitext(filename)[0] for filename in os.listdir(dir)]\n",
    "    return files"
   ],
   "metadata": {
    "collapsed": false,
    "pycharm": {
     "name": "#%%\n"
    }
   }
  },
  {
   "cell_type": "code",
   "execution_count": 553,
   "outputs": [],
   "source": [
    "def get_sheet_names_xlsx(filepath):\n",
    "    \"\"\"Lista a sheet do arquivo\"\"\"\n",
    "    wb = load_workbook(filepath, read_only=True, keep_links=False)\n",
    "    return wb.sheetnames"
   ],
   "metadata": {
    "collapsed": false,
    "pycharm": {
     "name": "#%%\n"
    }
   }
  },
  {
   "cell_type": "code",
   "execution_count": 554,
   "outputs": [],
   "source": [
    "def get_all_files():\n",
    "    \"\"\"Loop para listar todos os arquivos e suas sheets\n",
    "def get_all_files():\"\"\"\n",
    "    f = np.array(get_file_name(dir))\n",
    "    sheets = []\n",
    "    file_name = []\n",
    "    for i in range(len(f)):\n",
    "        file_name.append(f.item(i))\n",
    "        s = get_sheet_names_xlsx(dir+file_name[i]+\".xlsx\")\n",
    "        s_as_string = ' '.join([str(elem) for elem in s])   #converte a lista para string\n",
    "        sheets.append(s_as_string)                          #nova lista\n",
    "    print(\"Files: {}\".format(file_name))\n",
    "    print(\"Sheets: {}\".format(sheets))\n",
    "    return convert_all_to_json(dir, file_name, sheets, \".xlsx\")"
   ],
   "metadata": {
    "collapsed": false,
    "pycharm": {
     "name": "#%%\n"
    }
   }
  },
  {
   "cell_type": "code",
   "execution_count": 555,
   "outputs": [],
   "source": [
    "def convert_to_json(dir, file_name, sheet_name, ext):\n",
    "    \"\"\"Converte excel para Json\"\"\"\n",
    "    excel_data_df = pd.read_excel(dir + file_name + ext, sheet_name=sheet_name)\n",
    "    json_str = excel_data_df.to_json(orient='records')\n",
    "    #print(\"The original dictionary is : {}\".format(json_str))\n",
    "    return handle_accentuation_json(json_str)"
   ],
   "metadata": {
    "collapsed": false,
    "pycharm": {
     "name": "#%%\n"
    }
   }
  },
  {
   "cell_type": "code",
   "execution_count": 556,
   "outputs": [],
   "source": [
    "def handle_accentuation_json(json_str):\n",
    "    \"\"\"Tratamento de acentuação no Json\"\"\"\n",
    "    json_str = json_str.encode(\"latin1\").decode(\"unicode_escape\")\n",
    "    json_result = normalize('NFKD', json_str).encode('ASCII', 'ignore').decode('ASCII')\n",
    "    #print(json_result)\n",
    "    return json_result"
   ],
   "metadata": {
    "collapsed": false,
    "pycharm": {
     "name": "#%%\n"
    }
   }
  },
  {
   "cell_type": "code",
   "execution_count": 557,
   "outputs": [],
   "source": [
    "# def struct_json(json_str):\n",
    "#     \"\"\"Estrutura do json\"\"\"\n",
    "#     list_json = []\n",
    "#     parsed = json.loads(json_str)\n",
    "#     json_data = (json.dumps(json_str, indent=4, sort_keys=False))\n",
    "#     list_json.append(parsed)\n",
    "#     # printing Structed Json\n",
    "#     print(\"The structed dictionary is : {}\".format(list_json))\n",
    "#     return save_json(parsed)"
   ],
   "metadata": {
    "collapsed": false,
    "pycharm": {
     "name": "#%%\n"
    }
   }
  },
  {
   "cell_type": "code",
   "execution_count": 558,
   "outputs": [],
   "source": [
    "def convert_all_to_json(dir, f, sheet_name, ext):\n",
    "    \"\"\"Loop para converter excel para Json\"\"\"\n",
    "    list_json = []\n",
    "    for i in range(len(f)):\n",
    "        parsed =  json.loads(convert_to_json(dir, str(f[i]), sheet_name[i], ext))\n",
    "        json_data = (json.dumps(parsed, indent=4, sort_keys=False))\n",
    "        list_json.append({'switches':parsed})\n",
    "    # printing Structed dictionary\n",
    "    print(\"The structed dictionary is : {}\".format(list_json))\n",
    "\n",
    "    save_json(list_json)\n",
    "\n"
   ],
   "metadata": {
    "collapsed": false,
    "pycharm": {
     "name": "#%%\n"
    }
   }
  },
  {
   "cell_type": "code",
   "execution_count": 559,
   "outputs": [],
   "source": [
    "def convert_json_to_pandasDF(json_data):\n",
    "    \"\"\"Converte o Json em um dataframe\"\"\"\n",
    "    dataset = pd.json_normalize(json_data)\n",
    "    df = pd.read_json('output/data.json', orient='records' )\n",
    "    # print(df.iloc[:3,:])"
   ],
   "metadata": {
    "collapsed": false,
    "pycharm": {
     "name": "#%%\n"
    }
   }
  },
  {
   "cell_type": "code",
   "execution_count": 560,
   "outputs": [],
   "source": [
    "from networkx.readwrite import json_graph\n",
    "def save_json(json_data):\n",
    "    file_name = 'output/data.json'\n",
    "    with open(file_name, 'w') as outfile:\n",
    "        json.dump(json_data, outfile, indent=4)\n",
    "\n",
    "    return convert_json_to_pandasDF(json_data)\n",
    "\n"
   ],
   "metadata": {
    "collapsed": false,
    "pycharm": {
     "name": "#%%\n"
    }
   }
  },
  {
   "cell_type": "code",
   "execution_count": 561,
   "outputs": [
    {
     "name": "stdout",
     "output_type": "stream",
     "text": [
      "Files: ['cmn01', 'core01', 'core02', 'icr01', 'pacs01']\n",
      "Sheets: ['PORTAS_CORE', 'PORTAS_CORE', 'PORTAS_CORE', 'PORTAS_CORE', 'PORTAS_CORE']\n",
      "The structed dictionary is : [{'switches': [{'Porta': 18, 'Conexao': 'CORE01', 'Descricao': 'ISL PORT', 'DIO': 'TX3/RX3', 'Velocidade ( Giga )': 10}, {'Porta': 2, 'Conexao': 'AGG_CMN', 'Descricao': 'Trunk', 'DIO': 'TWINAX', 'Velocidade ( Giga )': 10}, {'Porta': 17, 'Conexao': 'IPQ', 'Descricao': 'ISLPORT', 'DIO': 'RX4/TX4', 'Velocidade ( Giga )': 10}, {'Porta': 19, 'Conexao': 'INRAD', 'Descricao': 'ISLPORT', 'DIO': 'PAR 29', 'Velocidade ( Giga )': 10}, {'Porta': 33, 'Conexao': 'PABX', 'Descricao': 'ISLPORT', 'DIO': 'DIO01 PAR01-03 RX1/TX1', 'Velocidade ( Giga )': 10}]}, {'switches': [{'Porta': 1, 'Conexao': None, 'Descricao': None, 'DIO': None, 'Velocidade ( Giga )': None, 'Alteracao': None}, {'Porta': 2, 'Conexao': 'ICHC01', 'Descricao': 'ISL PORT', 'DIO': 'DIO 01 / ESP.2 / RX1/TX1', 'Velocidade ( Giga )': 10.0, 'Alteracao': 1564358400000}, {'Porta': 3, 'Conexao': 'IPQ', 'Descricao': None, 'DIO': 'DIO 05 / ESP. 2 / RX1 / TX1', 'Velocidade ( Giga )': 1.0, 'Alteracao': None}, {'Porta': 4, 'Conexao': None, 'Descricao': None, 'DIO': None, 'Velocidade ( Giga )': None, 'Alteracao': None}, {'Porta': 5, 'Conexao': 'EEP01', 'Descricao': 'ISL PORT', 'DIO': 'DIO 06 / ESP. 1 / RX6 / TX6', 'Velocidade ( Giga )': 10.0, 'Alteracao': 1564531200000}, {'Porta': 6, 'Conexao': 'PABX01', 'Descricao': 'ISL PORT', 'DIO': 'DIO 09 / ESP.3 / RX2/TX2', 'Velocidade ( Giga )': 10.0, 'Alteracao': 1565740800000}, {'Porta': 7, 'Conexao': 'CDM01', 'Descricao': 'ISL PORT', 'DIO': 'DIO 01 / ESP. 3 / RX2 / TX2', 'Velocidade ( Giga )': 1.0, 'Alteracao': 1570665600000}, {'Porta': 8, 'Conexao': 'FFM', 'Descricao': None, 'DIO': 'DIO 02 / ESP. 3 / RX1 / TX1', 'Velocidade ( Giga )': 1.0, 'Alteracao': None}, {'Porta': 9, 'Conexao': None, 'Descricao': None, 'DIO': None, 'Velocidade ( Giga )': None, 'Alteracao': None}, {'Porta': 10, 'Conexao': 'SECSAUDE', 'Descricao': None, 'DIO': 'DIO 03 / ESP. 3 / RX1 / TX1', 'Velocidade ( Giga )': 1.0, 'Alteracao': None}, {'Porta': 11, 'Conexao': 'REP DEGAS_USP', 'Descricao': None, 'DIO': 'DIO 03 / ESP. 2 / RX4 / TX4', 'Velocidade ( Giga )': 1.0, 'Alteracao': None}, {'Porta': 12, 'Conexao': None, 'Descricao': None, 'DIO': None, 'Velocidade ( Giga )': None, 'Alteracao': None}, {'Porta': 13, 'Conexao': None, 'Descricao': None, 'DIO': None, 'Velocidade ( Giga )': None, 'Alteracao': None}, {'Porta': 14, 'Conexao': None, 'Descricao': None, 'DIO': None, 'Velocidade ( Giga )': None, 'Alteracao': None}, {'Porta': 15, 'Conexao': None, 'Descricao': None, 'DIO': None, 'Velocidade ( Giga )': None, 'Alteracao': None}, {'Porta': 16, 'Conexao': None, 'Descricao': None, 'DIO': None, 'Velocidade ( Giga )': None, 'Alteracao': None}, {'Porta': 17, 'Conexao': 'ICR01', 'Descricao': 'ISL PORT', 'DIO': 'DIO 01 / ESP. 1 / RX1 / TX1', 'Velocidade ( Giga )': 10.0, 'Alteracao': None}, {'Porta': 18, 'Conexao': 'CMN01', 'Descricao': 'ISL PORT', 'DIO': 'DIO 05 / ESP. 1 / RX1 / TX1', 'Velocidade ( Giga )': 10.0, 'Alteracao': None}, {'Porta': 19, 'Conexao': 'PACS01', 'Descricao': 'ISL PORT', 'DIO': 'PATCH CORD', 'Velocidade ( Giga )': 10.0, 'Alteracao': None}, {'Porta': 20, 'Conexao': 'FM01', 'Descricao': 'ISL PORT', 'DIO': 'Lucent Par 3,4', 'Velocidade ( Giga )': 10.0, 'Alteracao': None}, {'Porta': 21, 'Conexao': 'INCOR01', 'Descricao': 'ISL PORT', 'DIO': 'DIO 01 / ESP. 2 / RX1 / TX1', 'Velocidade ( Giga )': 10.0, 'Alteracao': None}, {'Porta': 22, 'Conexao': None, 'Descricao': None, 'DIO': None, 'Velocidade ( Giga )': None, 'Alteracao': None}, {'Porta': 23, 'Conexao': None, 'Descricao': None, 'DIO': None, 'Velocidade ( Giga )': None, 'Alteracao': None}, {'Porta': 24, 'Conexao': None, 'Descricao': None, 'DIO': None, 'Velocidade ( Giga )': None, 'Alteracao': None}, {'Porta': 25, 'Conexao': None, 'Descricao': None, 'DIO': None, 'Velocidade ( Giga )': None, 'Alteracao': None}, {'Porta': 26, 'Conexao': None, 'Descricao': None, 'DIO': None, 'Velocidade ( Giga )': None, 'Alteracao': None}, {'Porta': 27, 'Conexao': None, 'Descricao': None, 'DIO': None, 'Velocidade ( Giga )': None, 'Alteracao': None}, {'Porta': 28, 'Conexao': None, 'Descricao': None, 'DIO': None, 'Velocidade ( Giga )': None, 'Alteracao': None}, {'Porta': 29, 'Conexao': None, 'Descricao': None, 'DIO': None, 'Velocidade ( Giga )': None, 'Alteracao': None}, {'Porta': 30, 'Conexao': 'CORE02', 'Descricao': 'ISL PORT', 'DIO': None, 'Velocidade ( Giga )': 10.0, 'Alteracao': None}, {'Porta': 31, 'Conexao': None, 'Descricao': None, 'DIO': None, 'Velocidade ( Giga )': None, 'Alteracao': None}, {'Porta': 32, 'Conexao': 'CORE02', 'Descricao': 'ISL PORT', 'DIO': None, 'Velocidade ( Giga )': 10.0, 'Alteracao': None}, {'Porta': 33, 'Conexao': 'TELEMEDICINA', 'Descricao': None, 'DIO': None, 'Velocidade ( Giga )': 10.0, 'Alteracao': None}, {'Porta': 34, 'Conexao': None, 'Descricao': None, 'DIO': None, 'Velocidade ( Giga )': None, 'Alteracao': None}, {'Porta': 35, 'Conexao': None, 'Descricao': None, 'DIO': None, 'Velocidade ( Giga )': None, 'Alteracao': None}, {'Porta': 36, 'Conexao': None, 'Descricao': None, 'DIO': None, 'Velocidade ( Giga )': None, 'Alteracao': None}, {'Porta': 37, 'Conexao': None, 'Descricao': None, 'DIO': None, 'Velocidade ( Giga )': None, 'Alteracao': None}, {'Porta': 38, 'Conexao': None, 'Descricao': None, 'DIO': None, 'Velocidade ( Giga )': None, 'Alteracao': None}, {'Porta': 39, 'Conexao': None, 'Descricao': None, 'DIO': None, 'Velocidade ( Giga )': None, 'Alteracao': None}, {'Porta': 40, 'Conexao': None, 'Descricao': None, 'DIO': None, 'Velocidade ( Giga )': None, 'Alteracao': None}, {'Porta': 41, 'Conexao': None, 'Descricao': None, 'DIO': None, 'Velocidade ( Giga )': None, 'Alteracao': None}, {'Porta': 42, 'Conexao': None, 'Descricao': None, 'DIO': None, 'Velocidade ( Giga )': None, 'Alteracao': None}, {'Porta': 43, 'Conexao': 'DC01', 'Descricao': 'PO 100', 'DIO': None, 'Velocidade ( Giga )': 10.0, 'Alteracao': None}, {'Porta': 44, 'Conexao': None, 'Descricao': None, 'DIO': None, 'Velocidade ( Giga )': None, 'Alteracao': None}, {'Porta': 45, 'Conexao': 'DC02', 'Descricao': 'PO 100', 'DIO': None, 'Velocidade ( Giga )': 10.0, 'Alteracao': None}, {'Porta': 46, 'Conexao': None, 'Descricao': None, 'DIO': None, 'Velocidade ( Giga )': None, 'Alteracao': None}, {'Porta': 47, 'Conexao': None, 'Descricao': None, 'DIO': None, 'Velocidade ( Giga )': None, 'Alteracao': None}, {'Porta': 48, 'Conexao': 'MGMT_DELL', 'Descricao': None, 'DIO': None, 'Velocidade ( Giga )': 1.0, 'Alteracao': None}]}, {'switches': [{'Porta': 1, 'Conexao': 'NETI01', 'Descricao': 'ISL PORT', 'DIO': 'DIO 16 /ESP.1/RX1 /TX2', 'Velocidade ( Giga )': 10.0, 'Alteracao': 43663}, {'Porta': 2, 'Conexao': None, 'Descricao': None, 'DIO': None, 'Velocidade ( Giga )': None, 'Alteracao': None}, {'Porta': 3, 'Conexao': 'PA', 'Descricao': None, 'DIO': 'Switch PA', 'Velocidade ( Giga )': 1.0, 'Alteracao': None}, {'Porta': 4, 'Conexao': 'CCR01', 'Descricao': 'ISL PORT', 'DIO': ' DIO 2 / ESP. 3 / RX1 /TX1', 'Velocidade ( Giga )': 10.0, 'Alteracao': 43691}, {'Porta': 5, 'Conexao': 'CEAC01', 'Descricao': 'ISL PORT', 'DIO': 'DIO 13 / ESP. 1 / RX2 / TX2', 'Velocidade ( Giga )': 10.0, 'Alteracao': 43714}, {'Porta': 6, 'Conexao': None, 'Descricao': None, 'DIO': None, 'Velocidade ( Giga )': None, 'Alteracao': None}, {'Porta': 7, 'Conexao': 'PAMB01', 'Descricao': 'ISL PORT', 'DIO': 'DIO 01 / ESP. 3 / RX1/TX1', 'Velocidade ( Giga )': 10.0, 'Alteracao': 1574294400000}, {'Porta': 8, 'Conexao': 'ER', 'Descricao': None, 'DIO': 'DIO 03 / ESP. 3 / RX2/TX2', 'Velocidade ( Giga )': 1.0, 'Alteracao': None}, {'Porta': 9, 'Conexao': None, 'Descricao': None, 'DIO': None, 'Velocidade ( Giga )': None, 'Alteracao': None}, {'Porta': 10, 'Conexao': None, 'Descricao': None, 'DIO': None, 'Velocidade ( Giga )': None, 'Alteracao': 1573430400000}, {'Porta': 11, 'Conexao': 'CLAUDIA', 'Descricao': None, 'DIO': 'DIO 02 / ESP. 3 / RX2 / TX2', 'Velocidade ( Giga )': 1.0, 'Alteracao': None}, {'Porta': 12, 'Conexao': None, 'Descricao': None, 'DIO': None, 'Velocidade ( Giga )': None, 'Alteracao': None}, {'Porta': 13, 'Conexao': 'NETI01', 'Descricao': None, 'DIO': None, 'Velocidade ( Giga )': 1.0, 'Alteracao': None}, {'Porta': 14, 'Conexao': None, 'Descricao': None, 'DIO': None, 'Velocidade ( Giga )': None, 'Alteracao': None}, {'Porta': 15, 'Conexao': None, 'Descricao': None, 'DIO': None, 'Velocidade ( Giga )': None, 'Alteracao': None}, {'Porta': 16, 'Conexao': None, 'Descricao': None, 'DIO': None, 'Velocidade ( Giga )': None, 'Alteracao': None}, {'Porta': 17, 'Conexao': 'INRAD01', 'Descricao': 'ISLPORT', 'DIO': 'DIO 02 / ESP. 1 / TX2 / RX2', 'Velocidade ( Giga )': 10.0, 'Alteracao': None}, {'Porta': 18, 'Conexao': 'PISA01', 'Descricao': 'ISLPORT', 'DIO': 'Lucent Par 1,2 DIO 14 / ESP. 1 / RX1 / TX1', 'Velocidade ( Giga )': 10.0, 'Alteracao': None}, {'Porta': 19, 'Conexao': 'PACS01', 'Descricao': 'ISLPORT', 'DIO': 'PATCH CORD', 'Velocidade ( Giga )': 10.0, 'Alteracao': None}, {'Porta': 20, 'Conexao': 'ICESP01', 'Descricao': 'ISLPORT', 'DIO': 'ESTRELA IDA - DIO 03 / ESP. 2 RX1 / TX1', 'Velocidade ( Giga )': 10.0, 'Alteracao': None}, {'Porta': 21, 'Conexao': 'IPQ01', 'Descricao': 'ISLPORT', 'DIO': 'DIO 04 / ESP. 3 / RX1 / TX1', 'Velocidade ( Giga )': 10.0, 'Alteracao': None}, {'Porta': 22, 'Conexao': 'IOT01', 'Descricao': 'ISLPORT', 'DIO': 'DIO 06 / ESP. 1 / RX2 / TX2', 'Velocidade ( Giga )': 10.0, 'Alteracao': None}, {'Porta': 23, 'Conexao': None, 'Descricao': None, 'DIO': None, 'Velocidade ( Giga )': None, 'Alteracao': None}, {'Porta': 24, 'Conexao': 'ICR01', 'Descricao': 'ISL PORT', 'DIO': 'DIO 01 / ESP. 1 / RX2 / TX2', 'Velocidade ( Giga )': 10.0, 'Alteracao': None}, {'Porta': 25, 'Conexao': None, 'Descricao': None, 'DIO': None, 'Velocidade ( Giga )': None, 'Alteracao': None}, {'Porta': 26, 'Conexao': None, 'Descricao': None, 'DIO': None, 'Velocidade ( Giga )': None, 'Alteracao': None}, {'Porta': 27, 'Conexao': None, 'Descricao': None, 'DIO': None, 'Velocidade ( Giga )': None, 'Alteracao': None}, {'Porta': 28, 'Conexao': None, 'Descricao': None, 'DIO': None, 'Velocidade ( Giga )': None, 'Alteracao': None}, {'Porta': 29, 'Conexao': None, 'Descricao': None, 'DIO': None, 'Velocidade ( Giga )': None, 'Alteracao': None}, {'Porta': 30, 'Conexao': 'CORE01', 'Descricao': 'ISL PORT', 'DIO': None, 'Velocidade ( Giga )': 10.0, 'Alteracao': None}, {'Porta': 31, 'Conexao': None, 'Descricao': None, 'DIO': None, 'Velocidade ( Giga )': None, 'Alteracao': None}, {'Porta': 32, 'Conexao': 'CORE01', 'Descricao': 'ISL PORT', 'DIO': None, 'Velocidade ( Giga )': 10.0, 'Alteracao': None}, {'Porta': 33, 'Conexao': None, 'Descricao': None, 'DIO': None, 'Velocidade ( Giga )': None, 'Alteracao': None}, {'Porta': 34, 'Conexao': None, 'Descricao': None, 'DIO': None, 'Velocidade ( Giga )': None, 'Alteracao': None}, {'Porta': 35, 'Conexao': None, 'Descricao': None, 'DIO': None, 'Velocidade ( Giga )': None, 'Alteracao': None}, {'Porta': 36, 'Conexao': None, 'Descricao': None, 'DIO': None, 'Velocidade ( Giga )': None, 'Alteracao': None}, {'Porta': 37, 'Conexao': None, 'Descricao': None, 'DIO': None, 'Velocidade ( Giga )': None, 'Alteracao': None}, {'Porta': 38, 'Conexao': None, 'Descricao': None, 'DIO': None, 'Velocidade ( Giga )': None, 'Alteracao': None}, {'Porta': 39, 'Conexao': None, 'Descricao': None, 'DIO': None, 'Velocidade ( Giga )': None, 'Alteracao': None}, {'Porta': 40, 'Conexao': None, 'Descricao': None, 'DIO': None, 'Velocidade ( Giga )': None, 'Alteracao': None}, {'Porta': 41, 'Conexao': None, 'Descricao': None, 'DIO': None, 'Velocidade ( Giga )': None, 'Alteracao': None}, {'Porta': 42, 'Conexao': None, 'Descricao': None, 'DIO': None, 'Velocidade ( Giga )': None, 'Alteracao': None}, {'Porta': 43, 'Conexao': 'DC02', 'Descricao': 'PO 100', 'DIO': None, 'Velocidade ( Giga )': 10.0, 'Alteracao': None}, {'Porta': 44, 'Conexao': None, 'Descricao': None, 'DIO': None, 'Velocidade ( Giga )': None, 'Alteracao': None}, {'Porta': 45, 'Conexao': 'DC01', 'Descricao': 'PO 100', 'DIO': None, 'Velocidade ( Giga )': 10.0, 'Alteracao': None}, {'Porta': 46, 'Conexao': None, 'Descricao': None, 'DIO': None, 'Velocidade ( Giga )': None, 'Alteracao': None}, {'Porta': 47, 'Conexao': None, 'Descricao': None, 'DIO': None, 'Velocidade ( Giga )': None, 'Alteracao': None}, {'Porta': 48, 'Conexao': None, 'Descricao': None, 'DIO': None, 'Velocidade ( Giga )': None, 'Alteracao': None}, {'Porta': None, 'Conexao': None, 'Descricao': None, 'DIO': None, 'Velocidade ( Giga )': None, 'Alteracao': None}, {'Porta': None, 'Conexao': None, 'Descricao': None, 'DIO': None, 'Velocidade ( Giga )': None, 'Alteracao': None}, {'Porta': None, 'Conexao': None, 'Descricao': None, 'DIO': None, 'Velocidade ( Giga )': None, 'Alteracao': None}, {'Porta': None, 'Conexao': None, 'Descricao': None, 'DIO': None, 'Velocidade ( Giga )': None, 'Alteracao': None}, {'Porta': None, 'Conexao': None, 'Descricao': None, 'DIO': None, 'Velocidade ( Giga )': None, 'Alteracao': None}, {'Porta': None, 'Conexao': None, 'Descricao': None, 'DIO': None, 'Velocidade ( Giga )': None, 'Alteracao': None}, {'Porta': None, 'Conexao': None, 'Descricao': None, 'DIO': None, 'Velocidade ( Giga )': None, 'Alteracao': None}, {'Porta': None, 'Conexao': None, 'Descricao': None, 'DIO': None, 'Velocidade ( Giga )': None, 'Alteracao': None}, {'Porta': None, 'Conexao': None, 'Descricao': None, 'DIO': None, 'Velocidade ( Giga )': None, 'Alteracao': None}, {'Porta': None, 'Conexao': None, 'Descricao': None, 'DIO': None, 'Velocidade ( Giga )': None, 'Alteracao': None}, {'Porta': None, 'Conexao': None, 'Descricao': None, 'DIO': None, 'Velocidade ( Giga )': None, 'Alteracao': None}, {'Porta': None, 'Conexao': None, 'Descricao': None, 'DIO': None, 'Velocidade ( Giga )': None, 'Alteracao': None}, {'Porta': None, 'Conexao': None, 'Descricao': None, 'DIO': None, 'Velocidade ( Giga )': None, 'Alteracao': None}, {'Porta': None, 'Conexao': None, 'Descricao': None, 'DIO': None, 'Velocidade ( Giga )': None, 'Alteracao': None}, {'Porta': None, 'Conexao': None, 'Descricao': None, 'DIO': None, 'Velocidade ( Giga )': None, 'Alteracao': None}, {'Porta': None, 'Conexao': None, 'Descricao': None, 'DIO': None, 'Velocidade ( Giga )': None, 'Alteracao': None}, {'Porta': None, 'Conexao': None, 'Descricao': None, 'DIO': None, 'Velocidade ( Giga )': None, 'Alteracao': None}, {'Porta': None, 'Conexao': None, 'Descricao': None, 'DIO': None, 'Velocidade ( Giga )': None, 'Alteracao': None}, {'Porta': None, 'Conexao': None, 'Descricao': None, 'DIO': None, 'Velocidade ( Giga )': None, 'Alteracao': None}, {'Porta': None, 'Conexao': None, 'Descricao': None, 'DIO': None, 'Velocidade ( Giga )': None, 'Alteracao': None}, {'Porta': None, 'Conexao': None, 'Descricao': None, 'DIO': None, 'Velocidade ( Giga )': None, 'Alteracao': None}, {'Porta': None, 'Conexao': None, 'Descricao': None, 'DIO': None, 'Velocidade ( Giga )': None, 'Alteracao': None}, {'Porta': None, 'Conexao': None, 'Descricao': None, 'DIO': None, 'Velocidade ( Giga )': None, 'Alteracao': None}, {'Porta': None, 'Conexao': None, 'Descricao': None, 'DIO': None, 'Velocidade ( Giga )': None, 'Alteracao': None}, {'Porta': None, 'Conexao': None, 'Descricao': None, 'DIO': None, 'Velocidade ( Giga )': None, 'Alteracao': None}, {'Porta': None, 'Conexao': None, 'Descricao': None, 'DIO': None, 'Velocidade ( Giga )': None, 'Alteracao': None}, {'Porta': None, 'Conexao': None, 'Descricao': None, 'DIO': None, 'Velocidade ( Giga )': None, 'Alteracao': None}, {'Porta': None, 'Conexao': None, 'Descricao': None, 'DIO': None, 'Velocidade ( Giga )': None, 'Alteracao': None}, {'Porta': None, 'Conexao': None, 'Descricao': None, 'DIO': None, 'Velocidade ( Giga )': None, 'Alteracao': None}, {'Porta': None, 'Conexao': None, 'Descricao': None, 'DIO': None, 'Velocidade ( Giga )': None, 'Alteracao': None}, {'Porta': None, 'Conexao': None, 'Descricao': None, 'DIO': None, 'Velocidade ( Giga )': None, 'Alteracao': None}, {'Porta': None, 'Conexao': None, 'Descricao': None, 'DIO': None, 'Velocidade ( Giga )': None, 'Alteracao': None}, {'Porta': None, 'Conexao': None, 'Descricao': None, 'DIO': None, 'Velocidade ( Giga )': None, 'Alteracao': None}, {'Porta': None, 'Conexao': None, 'Descricao': None, 'DIO': None, 'Velocidade ( Giga )': None, 'Alteracao': None}, {'Porta': None, 'Conexao': None, 'Descricao': None, 'DIO': None, 'Velocidade ( Giga )': None, 'Alteracao': None}, {'Porta': None, 'Conexao': None, 'Descricao': None, 'DIO': None, 'Velocidade ( Giga )': None, 'Alteracao': None}, {'Porta': None, 'Conexao': None, 'Descricao': None, 'DIO': None, 'Velocidade ( Giga )': None, 'Alteracao': None}, {'Porta': None, 'Conexao': None, 'Descricao': None, 'DIO': None, 'Velocidade ( Giga )': None, 'Alteracao': None}, {'Porta': None, 'Conexao': None, 'Descricao': None, 'DIO': None, 'Velocidade ( Giga )': None, 'Alteracao': None}, {'Porta': None, 'Conexao': None, 'Descricao': None, 'DIO': None, 'Velocidade ( Giga )': None, 'Alteracao': None}, {'Porta': None, 'Conexao': None, 'Descricao': None, 'DIO': None, 'Velocidade ( Giga )': None, 'Alteracao': None}, {'Porta': None, 'Conexao': None, 'Descricao': None, 'DIO': None, 'Velocidade ( Giga )': None, 'Alteracao': None}, {'Porta': None, 'Conexao': None, 'Descricao': None, 'DIO': None, 'Velocidade ( Giga )': None, 'Alteracao': None}, {'Porta': None, 'Conexao': None, 'Descricao': None, 'DIO': None, 'Velocidade ( Giga )': None, 'Alteracao': None}, {'Porta': None, 'Conexao': None, 'Descricao': None, 'DIO': None, 'Velocidade ( Giga )': None, 'Alteracao': None}, {'Porta': None, 'Conexao': None, 'Descricao': None, 'DIO': None, 'Velocidade ( Giga )': None, 'Alteracao': None}, {'Porta': None, 'Conexao': None, 'Descricao': None, 'DIO': None, 'Velocidade ( Giga )': None, 'Alteracao': None}, {'Porta': None, 'Conexao': None, 'Descricao': None, 'DIO': None, 'Velocidade ( Giga )': None, 'Alteracao': None}, {'Porta': None, 'Conexao': None, 'Descricao': None, 'DIO': None, 'Velocidade ( Giga )': None, 'Alteracao': None}, {'Porta': None, 'Conexao': None, 'Descricao': None, 'DIO': None, 'Velocidade ( Giga )': None, 'Alteracao': None}, {'Porta': None, 'Conexao': None, 'Descricao': None, 'DIO': None, 'Velocidade ( Giga )': None, 'Alteracao': None}, {'Porta': None, 'Conexao': None, 'Descricao': None, 'DIO': None, 'Velocidade ( Giga )': None, 'Alteracao': None}, {'Porta': None, 'Conexao': None, 'Descricao': None, 'DIO': None, 'Velocidade ( Giga )': None, 'Alteracao': None}, {'Porta': None, 'Conexao': None, 'Descricao': None, 'DIO': None, 'Velocidade ( Giga )': None, 'Alteracao': None}, {'Porta': None, 'Conexao': None, 'Descricao': None, 'DIO': None, 'Velocidade ( Giga )': None, 'Alteracao': None}, {'Porta': 'VDX', 'Conexao': 'SFP', 'Descricao': 'TYPE', 'DIO': None, 'Velocidade ( Giga )': None, 'Alteracao': None}, {'Porta': 1, 'Conexao': 3, 'Descricao': 'SM', 'DIO': None, 'Velocidade ( Giga )': None, 'Alteracao': None}, {'Porta': 1, 'Conexao': 3, 'Descricao': 'SM', 'DIO': None, 'Velocidade ( Giga )': None, 'Alteracao': None}, {'Porta': 1, 'Conexao': 3, 'Descricao': 'SM', 'DIO': None, 'Velocidade ( Giga )': None, 'Alteracao': None}, {'Porta': 1, 'Conexao': 3, 'Descricao': 'SM', 'DIO': None, 'Velocidade ( Giga )': None, 'Alteracao': None}, {'Porta': 1, 'Conexao': 3, 'Descricao': 'SM', 'DIO': None, 'Velocidade ( Giga )': None, 'Alteracao': None}, {'Porta': 1, 'Conexao': 3, 'Descricao': 'SM', 'DIO': None, 'Velocidade ( Giga )': None, 'Alteracao': None}, {'Porta': 1, 'Conexao': 3, 'Descricao': 'SM', 'DIO': None, 'Velocidade ( Giga )': None, 'Alteracao': None}, {'Porta': 1, 'Conexao': 3, 'Descricao': 'SM', 'DIO': None, 'Velocidade ( Giga )': None, 'Alteracao': None}, {'Porta': 1, 'Conexao': 3, 'Descricao': 'SM', 'DIO': None, 'Velocidade ( Giga )': None, 'Alteracao': None}, {'Porta': 1, 'Conexao': 3, 'Descricao': 'SM', 'DIO': None, 'Velocidade ( Giga )': None, 'Alteracao': None}, {'Porta': 1, 'Conexao': 3, 'Descricao': 'SM', 'DIO': None, 'Velocidade ( Giga )': None, 'Alteracao': None}, {'Porta': 1, 'Conexao': 2, 'Descricao': 'TWINAX', 'DIO': None, 'Velocidade ( Giga )': None, 'Alteracao': None}, {'Porta': 12, 'Conexao': 35, 'Descricao': None, 'DIO': None, 'Velocidade ( Giga )': None, 'Alteracao': None}]}, {'switches': [{'Porta': 1, 'Conexao': 'CORE01', 'Descricao': 'ISL PORT', 'DIO': 'TX1/RX1', 'Velocidade ( Giga )': 10}, {'Porta': 2, 'Conexao': 'Switch_Agg_ICX', 'Descricao': 'TRUNK', 'DIO': 'PATCH CORD', 'Velocidade ( Giga )': 10}, {'Porta': 21, 'Conexao': 'PISA01', 'Descricao': 'ISL PORT', 'DIO': 'TX3/RX3', 'Velocidade ( Giga )': 10}, {'Porta': 17, 'Conexao': 'CORE02', 'Descricao': 'ISL PORT', 'DIO': 'TX2/RX2', 'Velocidade ( Giga )': 10}, {'Porta': 37, 'Conexao': 'IOT01', 'Descricao': 'ISL PORT', 'DIO': 'TX4/RX4', 'Velocidade ( Giga )': 10}]}, {'switches': [{'Porta': 1, 'Conexao': 'CORE01', 'Descricao': 'ISL PORT', 'DIO': 'PATCH CORD', 'Velocidade ( Giga )': 10, 'Alteracao': None}, {'Porta': 2, 'Conexao': 'AGG_PACS', 'Descricao': 'PO 101', 'DIO': 'TWINAX', 'Velocidade ( Giga )': 10, 'Alteracao': None}, {'Porta': 17, 'Conexao': 'INRAD01', 'Descricao': 'ISL PORT', 'DIO': 'RX2/TX2 ( Jumper NETI + Anel )', 'Velocidade ( Giga )': 10, 'Alteracao': None}, {'Porta': 18, 'Conexao': 'AGG_PACS', 'Descricao': 'PO 101', 'DIO': 'TWINAX', 'Velocidade ( Giga )': 10, 'Alteracao': None}, {'Porta': 19, 'Conexao': 'CORE02', 'Descricao': 'ISL PORT', 'DIO': 'PATCH CORD', 'Velocidade ( Giga )': 10, 'Alteracao': None}, {'Porta': 33, 'Conexao': 'NETI', 'Descricao': 'ISLPORT', 'DIO': 'DIO PACS / ESP.1 / RX1/TX1', 'Velocidade ( Giga )': 10, 'Alteracao': 1563321600000}]}]\n"
     ]
    },
    {
     "name": "stderr",
     "output_type": "stream",
     "text": [
      "<ipython-input-556-904a60c1ac22>:3: DeprecationWarning: invalid escape sequence '\\/'\n",
      "  json_str = json_str.encode(\"latin1\").decode(\"unicode_escape\")\n"
     ]
    }
   ],
   "source": [
    "#chamada funções\n",
    "def main():\n",
    "    get_all_files()\n",
    "\n",
    "#main\n",
    "if __name__ == '__main__':\n",
    "    main()"
   ],
   "metadata": {
    "collapsed": false,
    "pycharm": {
     "name": "#%%\n"
    }
   }
  }
 ],
 "metadata": {
  "kernelspec": {
   "display_name": "Python 3",
   "language": "python",
   "name": "python3"
  },
  "language_info": {
   "codemirror_mode": {
    "name": "ipython",
    "version": 2
   },
   "file_extension": ".py",
   "mimetype": "text/x-python",
   "name": "python",
   "nbconvert_exporter": "python",
   "pygments_lexer": "ipython2",
   "version": "2.7.6"
  }
 },
 "nbformat": 4,
 "nbformat_minor": 0
}