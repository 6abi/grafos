{
 "cells": [
  {
   "cell_type": "code",
   "execution_count": 70,
   "outputs": [],
   "source": [
    "#imports\n",
    "import os\n",
    "import pandas as pd\n",
    "import networkx as nx\n",
    "from matplotlib.pyplot import figure\n",
    "import numpy as np\n",
    "import json\n",
    "from openpyxl import load_workbook\n"
   ],
   "metadata": {
    "collapsed": false,
    "pycharm": {
     "name": "#%%\n"
    }
   }
  },
  {
   "cell_type": "code",
   "execution_count": 220,
   "outputs": [],
   "source": [
    "dir = \"planilhas/\"\n",
    "#Lista os arquivos da pasta\n",
    "def getFileName(filepath):\n",
    "    f = os.listdir(filepath)\n",
    "    for i in range(len(f)):\n",
    "        files = [os.path.splitext(filename)[0] for filename in os.listdir(dir)]\n",
    "    return files"
   ],
   "metadata": {
    "collapsed": false,
    "pycharm": {
     "name": "#%%\n"
    }
   }
  },
  {
   "cell_type": "code",
   "execution_count": 218,
   "outputs": [],
   "source": [
    "#Lista a sheet do arquivo\n",
    "def getSheetnamesXlsx(filepath):\n",
    "    wb = load_workbook(filepath, read_only=True, keep_links=False)\n",
    "    return wb.sheetnames"
   ],
   "metadata": {
    "collapsed": false,
    "pycharm": {
     "name": "#%%\n"
    }
   }
  },
  {
   "cell_type": "code",
   "execution_count": 222,
   "outputs": [],
   "source": [
    "#Listar todas as sheets dos arquivos\n",
    "def getAll():\n",
    "    f = np.array(getFileName(dir))\n",
    "    sheets = []\n",
    "    for i in range(len(f)):\n",
    "        file_name = f.item(i)\n",
    "        s = getSheetnamesXlsx(dir+file_name+\".xlsx\")\n",
    "        sheets.append(s)\n",
    "    print(\"Files: {}\",format(f))\n",
    "    print(\"Sheets: {}\",format(sheets))\n",
    "    return None"
   ],
   "metadata": {
    "collapsed": false,
    "pycharm": {
     "name": "#%%\n"
    }
   }
  },
  {
   "cell_type": "code",
   "execution_count": 223,
   "outputs": [
    {
     "name": "stdout",
     "output_type": "stream",
     "text": [
      "Files: {} ['cmn01' 'core01' 'core02' 'icr01' 'pacs01']\n",
      "Sheets: {} [['PORTAS_CORE'], ['PORTAS_CORE'], ['PORTAS_CORE'], ['PORTAS_CORE'], ['PORTAS_CORE']]\n"
     ]
    }
   ],
   "source": [
    "getAll()"
   ],
   "metadata": {
    "collapsed": false,
    "pycharm": {
     "name": "#%%\n"
    }
   }
  },
  {
   "cell_type": "code",
   "execution_count": null,
   "outputs": [],
   "source": [
    "#converte excel para Json\n",
    "excel_data_df = pd.read_excel('planilhas/pacs01.xlsx', sheet_name='PORTAS_CORE')\n",
    "\n",
    "json_str = excel_data_df.to_json(orient='records')\n",
    "print(json_str)"
   ],
   "metadata": {
    "collapsed": false,
    "pycharm": {
     "name": "#%%\n"
    }
   }
  },
  {
   "cell_type": "code",
   "execution_count": 111,
   "outputs": [
    {
     "name": "stdout",
     "output_type": "stream",
     "text": [
      "[\n",
      "    {\n",
      "        \"Porta\": 1,\n",
      "        \"Conex\\u00e3o\": \"CORE01\",\n",
      "        \"Descri\\u00e7\\u00e3o\": \"ISL PORT\",\n",
      "        \"DIO\": \"PATCH CORD\",\n",
      "        \"Velocidade ( Giga )\": 10,\n",
      "        \"Altera\\u00e7\\u00e3o\": null\n",
      "    },\n",
      "    {\n",
      "        \"Porta\": 2,\n",
      "        \"Conex\\u00e3o\": \"AGG_PACS\",\n",
      "        \"Descri\\u00e7\\u00e3o\": \"PO 101\",\n",
      "        \"DIO\": \"TWINAX\",\n",
      "        \"Velocidade ( Giga )\": 10,\n",
      "        \"Altera\\u00e7\\u00e3o\": null\n",
      "    },\n",
      "    {\n",
      "        \"Porta\": 17,\n",
      "        \"Conex\\u00e3o\": \"INRAD01\",\n",
      "        \"Descri\\u00e7\\u00e3o\": \"ISL PORT\",\n",
      "        \"DIO\": \"RX2/TX2 ( Jumper NETI + Anel )\",\n",
      "        \"Velocidade ( Giga )\": 10,\n",
      "        \"Altera\\u00e7\\u00e3o\": null\n",
      "    },\n",
      "    {\n",
      "        \"Porta\": 18,\n",
      "        \"Conex\\u00e3o\": \"AGG_PACS\",\n",
      "        \"Descri\\u00e7\\u00e3o\": \"PO 101\",\n",
      "        \"DIO\": \"TWINAX\",\n",
      "        \"Velocidade ( Giga )\": 10,\n",
      "        \"Altera\\u00e7\\u00e3o\": null\n",
      "    },\n",
      "    {\n",
      "        \"Porta\": 19,\n",
      "        \"Conex\\u00e3o\": \"CORE02\",\n",
      "        \"Descri\\u00e7\\u00e3o\": \"ISL PORT\",\n",
      "        \"DIO\": \"PATCH CORD\",\n",
      "        \"Velocidade ( Giga )\": 10,\n",
      "        \"Altera\\u00e7\\u00e3o\": null\n",
      "    },\n",
      "    {\n",
      "        \"Porta\": 33,\n",
      "        \"Conex\\u00e3o\": \"NETI\",\n",
      "        \"Descri\\u00e7\\u00e3o\": \"ISLPORT\",\n",
      "        \"DIO\": \"DIO PACS / ESP.1 / RX1/TX1\",\n",
      "        \"Velocidade ( Giga )\": 10,\n",
      "        \"Altera\\u00e7\\u00e3o\": 43663.0\n",
      "    }\n",
      "]\n"
     ]
    }
   ],
   "source": [
    "#estrutura do json\n",
    "parsed = json.loads(json_str)\n",
    "print(json.dumps(parsed, indent=4, sort_keys=False))\n"
   ],
   "metadata": {
    "collapsed": false,
    "pycharm": {
     "name": "#%%\n"
    }
   }
  },
  {
   "cell_type": "code",
   "execution_count": null,
   "outputs": [],
   "source": [
    "#Lidando com NaN e o index\n",
    "df.fillna(0, inplace=True)\n",
    "df = df.set_index(\"switch\")\n",
    "df = df.astype('int')\n",
    "df"
   ],
   "metadata": {
    "collapsed": false,
    "pycharm": {
     "name": "#%%\n"
    }
   }
  },
  {
   "cell_type": "code",
   "execution_count": null,
   "outputs": [],
   "source": [
    "# df['S0_regex'] = df['S0'].str.extract(r\"\\([[0-9][0-9]*)\\]\", expand=False)\n",
    "#verifica conexão dos nós\n",
    "df1 = df != 0\n",
    "df1"
   ],
   "metadata": {
    "collapsed": false,
    "pycharm": {
     "name": "#%%\n"
    }
   }
  },
  {
   "cell_type": "code",
   "execution_count": null,
   "outputs": [],
   "source": [
    "#colunas: fonte e alvos\n",
    "source = df1.iloc[:,1:].columns\n",
    "targets = df1.iloc[:,1:].columns"
   ],
   "metadata": {
    "collapsed": false,
    "pycharm": {
     "name": "#%%\n"
    }
   }
  },
  {
   "cell_type": "code",
   "execution_count": null,
   "outputs": [],
   "source": [
    "source"
   ],
   "metadata": {
    "collapsed": false,
    "pycharm": {
     "name": "#%%\n"
    }
   }
  },
  {
   "cell_type": "code",
   "execution_count": null,
   "outputs": [],
   "source": [
    "targets"
   ],
   "metadata": {
    "collapsed": false,
    "pycharm": {
     "name": "#%%\n"
    }
   }
  },
  {
   "cell_type": "code",
   "execution_count": null,
   "outputs": [],
   "source": [
    "#populando os nós e arestas\n",
    "G =nx.from_pandas_adjacency(df, create_using = nx.Graph())\n",
    "pos=nx.shell_layout(G)# positions for all nodes"
   ],
   "metadata": {
    "collapsed": false,
    "pycharm": {
     "name": "#%%\n"
    }
   }
  },
  {
   "cell_type": "code",
   "execution_count": null,
   "outputs": [],
   "source": [
    "print(nx.info(G))"
   ],
   "metadata": {
    "collapsed": false,
    "pycharm": {
     "name": "#%%\n"
    }
   }
  },
  {
   "cell_type": "code",
   "execution_count": null,
   "outputs": [],
   "source": [
    "print(\"Grau de centralidade\")\n",
    "d = nx.degree_centrality(G)\n",
    "for v in G.nodes():\n",
    "    print(f\"{v:2} {d[v]:.3f}\")"
   ],
   "metadata": {
    "collapsed": false,
    "pycharm": {
     "name": "#%%\n"
    }
   }
  },
  {
   "cell_type": "code",
   "execution_count": null,
   "outputs": [],
   "source": [
    "#grafo\n",
    "figure(figsize=(12,12))\n",
    "nx.draw_shell(G, with_labels=True, node_size=6000)\n",
    "nx.draw_networkx_edge_labels(G,pos=pos)\n",
    "\n"
   ],
   "metadata": {
    "collapsed": false,
    "pycharm": {
     "name": "#%%\n"
    }
   }
  }
 ],
 "metadata": {
  "kernelspec": {
   "display_name": "Python 3",
   "language": "python",
   "name": "python3"
  },
  "language_info": {
   "codemirror_mode": {
    "name": "ipython",
    "version": 2
   },
   "file_extension": ".py",
   "mimetype": "text/x-python",
   "name": "python",
   "nbconvert_exporter": "python",
   "pygments_lexer": "ipython2",
   "version": "2.7.6"
  }
 },
 "nbformat": 4,
 "nbformat_minor": 0
}