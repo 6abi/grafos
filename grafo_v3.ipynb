{
 "cells": [
  {
   "cell_type": "code",
   "execution_count": 1,
   "outputs": [],
   "source": [
    "#imports\n",
    "import os\n",
    "import pandas as pd\n",
    "import networkx as nx\n",
    "from networkx.readwrite import json_graph\n",
    "import matplotlib.pyplot as plt\n",
    "import numpy as np\n",
    "import json\n",
    "from openpyxl import load_workbook\n",
    "from unicodedata import normalize"
   ],
   "metadata": {
    "collapsed": false,
    "pycharm": {
     "name": "#%%\n"
    }
   }
  },
  {
   "cell_type": "code",
   "execution_count": 2,
   "outputs": [],
   "source": [
    "dir = \"planilhas/\"\n",
    "\n",
    "def get_file_name(filepath):\n",
    "    \"\"\"Lista os arquivos da pasta\"\"\"\n",
    "    f = os.listdir(filepath)\n",
    "    files = [os.path.splitext(filename)[0] for filename in os.listdir(dir)]\n",
    "    return files"
   ],
   "metadata": {
    "collapsed": false,
    "pycharm": {
     "name": "#%%\n"
    }
   }
  },
  {
   "cell_type": "code",
   "execution_count": 3,
   "outputs": [],
   "source": [
    "def get_sheet_names_xlsx(filepath):\n",
    "    \"\"\"Lista a sheet do arquivo\"\"\"\n",
    "    wb = load_workbook(filepath, read_only=True, keep_links=False)\n",
    "    return wb.sheetnames"
   ],
   "metadata": {
    "collapsed": false,
    "pycharm": {
     "name": "#%%\n"
    }
   }
  },
  {
   "cell_type": "code",
   "execution_count": 4,
   "outputs": [],
   "source": [
    "def get_all_files():\n",
    "    \"\"\"Loop para listar todos os arquivos e suas sheets\n",
    "def get_all_files():\"\"\"\n",
    "    f = np.array(get_file_name(dir))\n",
    "    sheets = []\n",
    "    file_name = []\n",
    "    for i in range(len(f)):\n",
    "        file_name.append(f.item(i))\n",
    "        s = get_sheet_names_xlsx(dir+file_name[i]+\".xlsx\")\n",
    "        s_as_string = ' '.join([str(elem) for elem in s])   #converte a lista para string\n",
    "        sheets.append(s_as_string)                          #nova lista\n",
    "    print(\"Files: {}\".format(file_name))\n",
    "    print(\"Sheets: {}\".format(sheets))\n",
    "    return convert_all_to_json(dir, file_name, sheets, \".xlsx\")"
   ],
   "metadata": {
    "collapsed": false,
    "pycharm": {
     "name": "#%%\n"
    }
   }
  },
  {
   "cell_type": "code",
   "execution_count": 5,
   "outputs": [],
   "source": [
    "def convert_to_json(dir, file_name, sheet_name, ext):\n",
    "    \"\"\"Converte excel para Json\"\"\"\n",
    "    excel_data_df = pd.read_excel(dir + file_name + ext, sheet_name=sheet_name)\n",
    "    json_str = excel_data_df.to_json(orient='records')\n",
    "    #print(\"The original dictionary is : {}\".format(json_str))\n",
    "    return handle_accentuation_json(json_str)"
   ],
   "metadata": {
    "collapsed": false,
    "pycharm": {
     "name": "#%%\n"
    }
   }
  },
  {
   "cell_type": "code",
   "execution_count": 6,
   "outputs": [],
   "source": [
    "def handle_accentuation_json(json_str):\n",
    "    \"\"\"Tratamento de acentuação no Json\"\"\"\n",
    "    json_str = json_str.encode(\"latin1\").decode(\"unicode_escape\")\n",
    "    json_result = normalize('NFKD', json_str).encode('ASCII', 'ignore').decode('ASCII')\n",
    "    #print(json_result)\n",
    "    return json_result"
   ],
   "metadata": {
    "collapsed": false,
    "pycharm": {
     "name": "#%%\n"
    }
   }
  },
  {
   "cell_type": "code",
   "execution_count": 7,
   "outputs": [],
   "source": [
    "def struct_json(json_str):\n",
    "    \"\"\"Estrutura do json\"\"\"\n",
    "    parsed = json.loads(json_str)\n",
    "    json_data = (json.dumps(parsed, indent=4, sort_keys=False))\n",
    "\n",
    "    # printing Structed dictionary\n",
    "    print(\"The structed dictionary is : {}\".format(json_data))\n",
    "    # return save_json(parsed)"
   ],
   "metadata": {
    "collapsed": false,
    "pycharm": {
     "name": "#%%\n"
    }
   }
  },
  {
   "cell_type": "code",
   "execution_count": 8,
   "outputs": [],
   "source": [
    "def convert_all_to_json(dir, f, sheet_name, ext):\n",
    "    \"\"\"Loop para converter excel para Json\"\"\"\n",
    "    list_json = []\n",
    "    for i in range(len(f)):\n",
    "        list_json.append({\"switches\": convert_to_json(dir, str(f[i]), sheet_name[i], ext)})\n",
    "    save_json(list_json)\n"
   ],
   "metadata": {
    "collapsed": false,
    "pycharm": {
     "name": "#%%\n"
    }
   }
  },
  {
   "cell_type": "code",
   "execution_count": 9,
   "outputs": [],
   "source": [
    "def convert_json_to_pandasDF(json_data):\n",
    "    \"\"\"Converte o Json em um dataframe\"\"\"\n",
    "    dataset = pd.json_normalize(json_data)\n",
    "    df = pd.read_json('output/data.json', orient='records' )\n",
    "    # print(df.iloc[:3,:])"
   ],
   "metadata": {
    "collapsed": false,
    "pycharm": {
     "name": "#%%\n"
    }
   }
  },
  {
   "cell_type": "code",
   "execution_count": 10,
   "outputs": [],
   "source": [
    "from networkx.readwrite import json_graph\n",
    "def save_json(json_data):\n",
    "    file_name = 'output/data.json'\n",
    "    with open(file_name, 'w') as outfile:\n",
    "        json.dump(json_data, outfile, indent=4)\n",
    "\n",
    "    return convert_json_to_pandasDF(json_data)\n",
    "\n"
   ],
   "metadata": {
    "collapsed": false,
    "pycharm": {
     "name": "#%%\n"
    }
   }
  },
  {
   "cell_type": "code",
   "execution_count": 11,
   "outputs": [
    {
     "name": "stdout",
     "output_type": "stream",
     "text": [
      "Files: ['cmn01', 'core01', 'core02', 'icr01', 'pacs01']\n",
      "Sheets: ['PORTAS_CORE', 'PORTAS_CORE', 'PORTAS_CORE', 'PORTAS_CORE', 'PORTAS_CORE']\n"
     ]
    },
    {
     "name": "stderr",
     "output_type": "stream",
     "text": [
      "<ipython-input-6-904a60c1ac22>:3: DeprecationWarning: invalid escape sequence '\\/'\n",
      "  json_str = json_str.encode(\"latin1\").decode(\"unicode_escape\")\n"
     ]
    }
   ],
   "source": [
    "#chamada funções\n",
    "def main():\n",
    "    get_all_files()\n",
    "\n",
    "#main\n",
    "if __name__ == '__main__':\n",
    "    main()"
   ],
   "metadata": {
    "collapsed": false,
    "pycharm": {
     "name": "#%%\n"
    }
   }
  }
 ],
 "metadata": {
  "kernelspec": {
   "display_name": "Python 3",
   "language": "python",
   "name": "python3"
  },
  "language_info": {
   "codemirror_mode": {
    "name": "ipython",
    "version": 2
   },
   "file_extension": ".py",
   "mimetype": "text/x-python",
   "name": "python",
   "nbconvert_exporter": "python",
   "pygments_lexer": "ipython2",
   "version": "2.7.6"
  }
 },
 "nbformat": 4,
 "nbformat_minor": 0
}