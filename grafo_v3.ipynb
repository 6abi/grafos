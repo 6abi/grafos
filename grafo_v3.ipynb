{
 "cells": [
  {
   "cell_type": "code",
   "execution_count": 70,
   "outputs": [],
   "source": [
    "#imports\n",
    "import os\n",
    "import pandas as pd\n",
    "import networkx as nx\n",
    "from matplotlib.pyplot import figure\n",
    "import numpy as np\n",
    "import json\n",
    "from openpyxl import load_workbook\n"
   ],
   "metadata": {
    "collapsed": false,
    "pycharm": {
     "name": "#%%\n"
    }
   }
  },
  {
   "cell_type": "code",
   "execution_count": 103,
   "outputs": [
    {
     "name": "stdout",
     "output_type": "stream",
     "text": [
      "['cmn01.xlsx' 'core01.xlsx' 'core02.xlsx' 'icr01.xlsx' 'pacs01.xlsx']\n"
     ]
    }
   ],
   "source": [
    "dir = \"planilhas/\"\n",
    "#Lista os arquivos da pasta\n",
    "def getFileName(filepath):\n",
    "    files = os.listdir(filepath)\n",
    "    return files"
   ],
   "metadata": {
    "collapsed": false,
    "pycharm": {
     "name": "#%%\n"
    }
   }
  },
  {
   "cell_type": "code",
   "execution_count": 104,
   "outputs": [],
   "source": [
    "#Lista a sheet do arquivo\n",
    "def getSheetnamesXlsx(filepath):\n",
    "    wb = load_workbook(filepath, read_only=True, keep_links=False)\n",
    "    return wb.sheetnames"
   ],
   "metadata": {
    "collapsed": false,
    "pycharm": {
     "name": "#%%\n"
    }
   }
  },
  {
   "cell_type": "code",
   "execution_count": 161,
   "outputs": [],
   "source": [
    "#Listar todas as sheets dos arquivos\n",
    "def getAllFilesSheets():\n",
    "    f = np.array(getFileName(dir))\n",
    "    for item in range(len(f)):\n",
    "        file_name = f[-1]\n",
    "        sheets = np.array(getSheetnamesXlsx(dir+file_name))\n",
    "        print(sheets)\n",
    "    print(\"Files: {}\",format(f))\n",
    "    print(\"Sheets: {}\",format(sheets))\n",
    "    return sheets"
   ],
   "metadata": {
    "collapsed": false,
    "pycharm": {
     "name": "#%%\n"
    }
   }
  },
  {
   "cell_type": "code",
   "execution_count": 162,
   "outputs": [
    {
     "ename": "UFuncTypeError",
     "evalue": "ufunc 'add' did not contain a loop with signature matching types (dtype('<U12'), dtype('<U12')) -> dtype('<U12')",
     "output_type": "error",
     "traceback": [
      "\u001B[1;31m---------------------------------------------------------------------------\u001B[0m",
      "\u001B[1;31mUFuncTypeError\u001B[0m                            Traceback (most recent call last)",
      "\u001B[1;32m<ipython-input-162-4ad173f19720>\u001B[0m in \u001B[0;36m<module>\u001B[1;34m\u001B[0m\n\u001B[1;32m----> 1\u001B[1;33m \u001B[0mgetAllFilesSheets\u001B[0m\u001B[1;33m(\u001B[0m\u001B[1;33m)\u001B[0m\u001B[1;33m\u001B[0m\u001B[1;33m\u001B[0m\u001B[0m\n\u001B[0m\u001B[0;32m      2\u001B[0m \u001B[1;33m\u001B[0m\u001B[0m\n",
      "\u001B[1;32m<ipython-input-161-f897b8c21c42>\u001B[0m in \u001B[0;36mgetAllFilesSheets\u001B[1;34m()\u001B[0m\n\u001B[0;32m      4\u001B[0m     \u001B[1;32mfor\u001B[0m \u001B[0mitem\u001B[0m \u001B[1;32min\u001B[0m \u001B[0mrange\u001B[0m\u001B[1;33m(\u001B[0m\u001B[0mlen\u001B[0m\u001B[1;33m(\u001B[0m\u001B[0mf\u001B[0m\u001B[1;33m)\u001B[0m\u001B[1;33m)\u001B[0m\u001B[1;33m:\u001B[0m\u001B[1;33m\u001B[0m\u001B[1;33m\u001B[0m\u001B[0m\n\u001B[0;32m      5\u001B[0m         \u001B[0mfile_name\u001B[0m \u001B[1;33m=\u001B[0m \u001B[0mf\u001B[0m\u001B[1;33m[\u001B[0m\u001B[1;33m-\u001B[0m\u001B[1;36m1\u001B[0m\u001B[1;33m]\u001B[0m\u001B[1;33m\u001B[0m\u001B[1;33m\u001B[0m\u001B[0m\n\u001B[1;32m----> 6\u001B[1;33m         \u001B[0msheets\u001B[0m \u001B[1;33m=\u001B[0m \u001B[0mnp\u001B[0m\u001B[1;33m.\u001B[0m\u001B[0marray\u001B[0m\u001B[1;33m(\u001B[0m\u001B[0mgetSheetnamesXlsx\u001B[0m\u001B[1;33m(\u001B[0m\u001B[0mdir\u001B[0m\u001B[1;33m+\u001B[0m\u001B[0mf\u001B[0m\u001B[1;33m)\u001B[0m\u001B[1;33m)\u001B[0m\u001B[1;33m\u001B[0m\u001B[1;33m\u001B[0m\u001B[0m\n\u001B[0m\u001B[0;32m      7\u001B[0m         \u001B[0mprint\u001B[0m\u001B[1;33m(\u001B[0m\u001B[0msheets\u001B[0m\u001B[1;33m)\u001B[0m\u001B[1;33m\u001B[0m\u001B[1;33m\u001B[0m\u001B[0m\n\u001B[0;32m      8\u001B[0m     \u001B[0mprint\u001B[0m\u001B[1;33m(\u001B[0m\u001B[1;34m\"Files: {}\"\u001B[0m\u001B[1;33m,\u001B[0m\u001B[0mformat\u001B[0m\u001B[1;33m(\u001B[0m\u001B[0mf\u001B[0m\u001B[1;33m)\u001B[0m\u001B[1;33m)\u001B[0m\u001B[1;33m\u001B[0m\u001B[1;33m\u001B[0m\u001B[0m\n",
      "\u001B[1;31mUFuncTypeError\u001B[0m: ufunc 'add' did not contain a loop with signature matching types (dtype('<U12'), dtype('<U12')) -> dtype('<U12')"
     ]
    }
   ],
   "source": [
    "getAllFilesSheets()"
   ],
   "metadata": {
    "collapsed": false,
    "pycharm": {
     "name": "#%%\n"
    }
   }
  },
  {
   "cell_type": "code",
   "execution_count": null,
   "outputs": [],
   "source": [
    "#converte excel para Json\n",
    "excel_data_df = pd.read_excel('planilhas/pacs01.xlsx', sheet_name='PORTAS_CORE')\n",
    "\n",
    "json_str = excel_data_df.to_json(orient='records')\n",
    "print(json_str)"
   ],
   "metadata": {
    "collapsed": false,
    "pycharm": {
     "name": "#%%\n"
    }
   }
  },
  {
   "cell_type": "code",
   "execution_count": 111,
   "outputs": [
    {
     "name": "stdout",
     "output_type": "stream",
     "text": [
      "[\n",
      "    {\n",
      "        \"Porta\": 1,\n",
      "        \"Conex\\u00e3o\": \"CORE01\",\n",
      "        \"Descri\\u00e7\\u00e3o\": \"ISL PORT\",\n",
      "        \"DIO\": \"PATCH CORD\",\n",
      "        \"Velocidade ( Giga )\": 10,\n",
      "        \"Altera\\u00e7\\u00e3o\": null\n",
      "    },\n",
      "    {\n",
      "        \"Porta\": 2,\n",
      "        \"Conex\\u00e3o\": \"AGG_PACS\",\n",
      "        \"Descri\\u00e7\\u00e3o\": \"PO 101\",\n",
      "        \"DIO\": \"TWINAX\",\n",
      "        \"Velocidade ( Giga )\": 10,\n",
      "        \"Altera\\u00e7\\u00e3o\": null\n",
      "    },\n",
      "    {\n",
      "        \"Porta\": 17,\n",
      "        \"Conex\\u00e3o\": \"INRAD01\",\n",
      "        \"Descri\\u00e7\\u00e3o\": \"ISL PORT\",\n",
      "        \"DIO\": \"RX2/TX2 ( Jumper NETI + Anel )\",\n",
      "        \"Velocidade ( Giga )\": 10,\n",
      "        \"Altera\\u00e7\\u00e3o\": null\n",
      "    },\n",
      "    {\n",
      "        \"Porta\": 18,\n",
      "        \"Conex\\u00e3o\": \"AGG_PACS\",\n",
      "        \"Descri\\u00e7\\u00e3o\": \"PO 101\",\n",
      "        \"DIO\": \"TWINAX\",\n",
      "        \"Velocidade ( Giga )\": 10,\n",
      "        \"Altera\\u00e7\\u00e3o\": null\n",
      "    },\n",
      "    {\n",
      "        \"Porta\": 19,\n",
      "        \"Conex\\u00e3o\": \"CORE02\",\n",
      "        \"Descri\\u00e7\\u00e3o\": \"ISL PORT\",\n",
      "        \"DIO\": \"PATCH CORD\",\n",
      "        \"Velocidade ( Giga )\": 10,\n",
      "        \"Altera\\u00e7\\u00e3o\": null\n",
      "    },\n",
      "    {\n",
      "        \"Porta\": 33,\n",
      "        \"Conex\\u00e3o\": \"NETI\",\n",
      "        \"Descri\\u00e7\\u00e3o\": \"ISLPORT\",\n",
      "        \"DIO\": \"DIO PACS / ESP.1 / RX1/TX1\",\n",
      "        \"Velocidade ( Giga )\": 10,\n",
      "        \"Altera\\u00e7\\u00e3o\": 43663.0\n",
      "    }\n",
      "]\n"
     ]
    }
   ],
   "source": [
    "#estrutura do json\n",
    "parsed = json.loads(json_str)\n",
    "print(json.dumps(parsed, indent=4, sort_keys=False))\n"
   ],
   "metadata": {
    "collapsed": false,
    "pycharm": {
     "name": "#%%\n"
    }
   }
  },
  {
   "cell_type": "code",
   "execution_count": null,
   "outputs": [],
   "source": [
    "#Lidando com NaN e o index\n",
    "df.fillna(0, inplace=True)\n",
    "df = df.set_index(\"switch\")\n",
    "df = df.astype('int')\n",
    "df"
   ],
   "metadata": {
    "collapsed": false,
    "pycharm": {
     "name": "#%%\n"
    }
   }
  },
  {
   "cell_type": "code",
   "execution_count": null,
   "outputs": [],
   "source": [
    "# df['S0_regex'] = df['S0'].str.extract(r\"\\([[0-9][0-9]*)\\]\", expand=False)\n",
    "#verifica conexão dos nós\n",
    "df1 = df != 0\n",
    "df1"
   ],
   "metadata": {
    "collapsed": false,
    "pycharm": {
     "name": "#%%\n"
    }
   }
  },
  {
   "cell_type": "code",
   "execution_count": null,
   "outputs": [],
   "source": [
    "#colunas: fonte e alvos\n",
    "source = df1.iloc[:,1:].columns\n",
    "targets = df1.iloc[:,1:].columns"
   ],
   "metadata": {
    "collapsed": false,
    "pycharm": {
     "name": "#%%\n"
    }
   }
  },
  {
   "cell_type": "code",
   "execution_count": null,
   "outputs": [],
   "source": [
    "source"
   ],
   "metadata": {
    "collapsed": false,
    "pycharm": {
     "name": "#%%\n"
    }
   }
  },
  {
   "cell_type": "code",
   "execution_count": null,
   "outputs": [],
   "source": [
    "targets"
   ],
   "metadata": {
    "collapsed": false,
    "pycharm": {
     "name": "#%%\n"
    }
   }
  },
  {
   "cell_type": "code",
   "execution_count": null,
   "outputs": [],
   "source": [
    "#populando os nós e arestas\n",
    "G =nx.from_pandas_adjacency(df, create_using = nx.Graph())\n",
    "pos=nx.shell_layout(G)# positions for all nodes"
   ],
   "metadata": {
    "collapsed": false,
    "pycharm": {
     "name": "#%%\n"
    }
   }
  },
  {
   "cell_type": "code",
   "execution_count": null,
   "outputs": [],
   "source": [
    "print(nx.info(G))"
   ],
   "metadata": {
    "collapsed": false,
    "pycharm": {
     "name": "#%%\n"
    }
   }
  },
  {
   "cell_type": "code",
   "execution_count": null,
   "outputs": [],
   "source": [
    "print(\"Grau de centralidade\")\n",
    "d = nx.degree_centrality(G)\n",
    "for v in G.nodes():\n",
    "    print(f\"{v:2} {d[v]:.3f}\")"
   ],
   "metadata": {
    "collapsed": false,
    "pycharm": {
     "name": "#%%\n"
    }
   }
  },
  {
   "cell_type": "code",
   "execution_count": null,
   "outputs": [],
   "source": [
    "#grafo\n",
    "figure(figsize=(12,12))\n",
    "nx.draw_shell(G, with_labels=True, node_size=6000)\n",
    "nx.draw_networkx_edge_labels(G,pos=pos)\n",
    "\n"
   ],
   "metadata": {
    "collapsed": false,
    "pycharm": {
     "name": "#%%\n"
    }
   }
  }
 ],
 "metadata": {
  "kernelspec": {
   "display_name": "Python 3",
   "language": "python",
   "name": "python3"
  },
  "language_info": {
   "codemirror_mode": {
    "name": "ipython",
    "version": 2
   },
   "file_extension": ".py",
   "mimetype": "text/x-python",
   "name": "python",
   "nbconvert_exporter": "python",
   "pygments_lexer": "ipython2",
   "version": "2.7.6"
  }
 },
 "nbformat": 4,
 "nbformat_minor": 0
}