{
 "cells": [
  {
   "cell_type": "code",
   "execution_count": 190,
   "outputs": [],
   "source": [
    "#imports\n",
    "import os\n",
    "import pandas as pd\n",
    "import networkx as nx\n",
    "from networkx.readwrite import json_graph\n",
    "import matplotlib.pyplot as plt\n",
    "import numpy as np\n",
    "import json\n",
    "from openpyxl import load_workbook\n"
   ],
   "metadata": {
    "collapsed": false,
    "pycharm": {
     "name": "#%%\n"
    }
   }
  },
  {
   "cell_type": "code",
   "execution_count": 191,
   "outputs": [],
   "source": [
    "dir = \"planilhas/\"\n",
    "#Lista os arquivos da pasta\n",
    "def getFileName(filepath):\n",
    "    f = os.listdir(filepath)\n",
    "    files = [os.path.splitext(filename)[0] for filename in os.listdir(dir)]\n",
    "    return files"
   ],
   "metadata": {
    "collapsed": false,
    "pycharm": {
     "name": "#%%\n"
    }
   }
  },
  {
   "cell_type": "code",
   "execution_count": 192,
   "outputs": [],
   "source": [
    "#Lista a sheet do arquivo\n",
    "def getSheetnamesXlsx(filepath):\n",
    "    wb = load_workbook(filepath, read_only=True, keep_links=False)\n",
    "    return wb.sheetnames"
   ],
   "metadata": {
    "collapsed": false,
    "pycharm": {
     "name": "#%%\n"
    }
   }
  },
  {
   "cell_type": "code",
   "execution_count": 193,
   "outputs": [],
   "source": [
    "#Loop para listar todos os arquivos e suas sheets\n",
    "def getAllFiles():\n",
    "    f = np.array(getFileName(dir))\n",
    "    sheets = []\n",
    "    file_name = []\n",
    "    for i in range(len(f)):\n",
    "        file_name.append(f.item(i))\n",
    "        s = getSheetnamesXlsx(dir+file_name[i]+\".xlsx\")\n",
    "        s_as_string = ' '.join([str(elem) for elem in s])   #converte a lista para string\n",
    "        sheets.append(s_as_string)                          #nova lista\n",
    "    print(\"Files: {}\".format(file_name))\n",
    "    print(\"Sheets: {}\".format(sheets))\n",
    "    return convertAllToJson(dir, file_name, sheets, \".xlsx\")\n"
   ],
   "metadata": {
    "collapsed": false,
    "pycharm": {
     "name": "#%%\n"
    }
   }
  },
  {
   "cell_type": "code",
   "execution_count": 194,
   "outputs": [],
   "source": [
    "#converte excel para Json\n",
    "def convertToJson(dir, file_name, sheet_name, ext):\n",
    "    excel_data_df = pd.read_excel(dir + file_name + ext, sheet_name=sheet_name)\n",
    "    json_str = excel_data_df.to_json(orient='records')\n",
    "\n",
    "    print(\"The original dictionary is : {}\".format(json_str))\n",
    "    return structJson(json_str)"
   ],
   "metadata": {
    "collapsed": false,
    "pycharm": {
     "name": "#%%\n"
    }
   }
  },
  {
   "cell_type": "code",
   "execution_count": 195,
   "outputs": [],
   "source": [
    "#estrutura do json\n",
    "def structJson(json_str):\n",
    "    parsed = json.loads(json_str)\n",
    "    json_data = (json.dumps(parsed, indent=4, sort_keys=False))\n",
    "\n",
    "    # printing original dictionary\n",
    "    print(\"The structed dictionary is : {}\".format(json_data))\n",
    "\n",
    "    return graphGenerator(str(parsed))"
   ],
   "metadata": {
    "collapsed": false,
    "pycharm": {
     "name": "#%%\n"
    }
   }
  },
  {
   "cell_type": "code",
   "execution_count": 196,
   "outputs": [],
   "source": [
    "#Loop para converter excel para Json\n",
    "def convertAllToJson(dir, f, sheet_name, ext):\n",
    "    for i in range(len(f)):\n",
    "        convertToJson(dir, str(f[i]), sheet_name[i], ext)\n",
    "    return None\n",
    "\n"
   ],
   "metadata": {
    "collapsed": false,
    "pycharm": {
     "name": "#%%\n"
    }
   }
  },
  {
   "cell_type": "code",
   "execution_count": 197,
   "outputs": [],
   "source": [
    "from networkx.readwrite import json_graph\n",
    "def graphGenerator(json_data):\n",
    "    with open('output/data.json', 'w') as outfile:\n",
    "        json.dump(json_data, outfile)\n",
    "\n",
    "    with open(\"output/data.txt\") as f:\n",
    "        js_graph = json.loads(f.read())\n",
    "    print(js_graph)\n",
    "\n",
    "    # G = nx.DiGraph()\n",
    "    #\n",
    "    # G.add_nodes_from(\n",
    "    #     elem['from']['name']\n",
    "    #     for elem in js_graph['data']\n",
    "    # )\n",
    "    # G.add_edges_from(\n",
    "    #     (elem['from']['id'], elem['id'])\n",
    "    #     for elem in js_graph['data']\n",
    "    # )\n",
    "    #\n",
    "    # nx.draw(\n",
    "    #     G,\n",
    "    #     with_labels=True\n",
    "    # )"
   ],
   "metadata": {
    "collapsed": false,
    "pycharm": {
     "name": "#%%\n"
    }
   }
  },
  {
   "cell_type": "code",
   "execution_count": 198,
   "outputs": [
    {
     "name": "stdout",
     "output_type": "stream",
     "text": [
      "Files: ['cmn01']\n",
      "Sheets: ['PORTAS_CORE']\n",
      "The original dictionary is : [{\"Porta\":18,\"Conex\\u00e3o\":\"CORE01\",\"Descri\\u00e7\\u00e3o\":\"ISL PORT\",\"DIO\":\"TX3\\/RX3\",\"Velocidade ( Giga )\":10},{\"Porta\":2,\"Conex\\u00e3o\":\"AGG_CMN\",\"Descri\\u00e7\\u00e3o\":\"Trunk\",\"DIO\":\"TWINAX\",\"Velocidade ( Giga )\":10},{\"Porta\":17,\"Conex\\u00e3o\":\"IPQ\",\"Descri\\u00e7\\u00e3o\":\"ISLPORT\",\"DIO\":\"RX4\\/TX4\",\"Velocidade ( Giga )\":10},{\"Porta\":19,\"Conex\\u00e3o\":\"INRAD\",\"Descri\\u00e7\\u00e3o\":\"ISLPORT\",\"DIO\":\"PAR 29\",\"Velocidade ( Giga )\":10},{\"Porta\":33,\"Conex\\u00e3o\":\"PABX\",\"Descri\\u00e7\\u00e3o\":\"ISLPORT\",\"DIO\":\"DIO01 PAR01-03 RX1\\/TX1\",\"Velocidade ( Giga )\":10}]\n",
      "The structed dictionary is : [\n",
      "    {\n",
      "        \"Porta\": 18,\n",
      "        \"Conex\\u00e3o\": \"CORE01\",\n",
      "        \"Descri\\u00e7\\u00e3o\": \"ISL PORT\",\n",
      "        \"DIO\": \"TX3/RX3\",\n",
      "        \"Velocidade ( Giga )\": 10\n",
      "    },\n",
      "    {\n",
      "        \"Porta\": 2,\n",
      "        \"Conex\\u00e3o\": \"AGG_CMN\",\n",
      "        \"Descri\\u00e7\\u00e3o\": \"Trunk\",\n",
      "        \"DIO\": \"TWINAX\",\n",
      "        \"Velocidade ( Giga )\": 10\n",
      "    },\n",
      "    {\n",
      "        \"Porta\": 17,\n",
      "        \"Conex\\u00e3o\": \"IPQ\",\n",
      "        \"Descri\\u00e7\\u00e3o\": \"ISLPORT\",\n",
      "        \"DIO\": \"RX4/TX4\",\n",
      "        \"Velocidade ( Giga )\": 10\n",
      "    },\n",
      "    {\n",
      "        \"Porta\": 19,\n",
      "        \"Conex\\u00e3o\": \"INRAD\",\n",
      "        \"Descri\\u00e7\\u00e3o\": \"ISLPORT\",\n",
      "        \"DIO\": \"PAR 29\",\n",
      "        \"Velocidade ( Giga )\": 10\n",
      "    },\n",
      "    {\n",
      "        \"Porta\": 33,\n",
      "        \"Conex\\u00e3o\": \"PABX\",\n",
      "        \"Descri\\u00e7\\u00e3o\": \"ISLPORT\",\n",
      "        \"DIO\": \"DIO01 PAR01-03 RX1/TX1\",\n",
      "        \"Velocidade ( Giga )\": 10\n",
      "    }\n",
      "]\n",
      "[{'Porta': 18, 'Conexão': 'CORE01', 'Descrição': 'ISL PORT', 'DIO': 'TX3/RX3', 'Velocidade ( Giga )': 10}, {'Porta': 2, 'Conexão': 'AGG_CMN', 'Descrição': 'Trunk', 'DIO': 'TWINAX', 'Velocidade ( Giga )': 10}, {'Porta': 17, 'Conexão': 'IPQ', 'Descrição': 'ISLPORT', 'DIO': 'RX4/TX4', 'Velocidade ( Giga )': 10}, {'Porta': 19, 'Conexão': 'INRAD', 'Descrição': 'ISLPORT', 'DIO': 'PAR 29', 'Velocidade ( Giga )': 10}, {'Porta': 33, 'Conexão': 'PABX', 'Descrição': 'ISLPORT', 'DIO': 'DIO01 PAR01-03 RX1/TX1', 'Velocidade ( Giga )': 10}]\n"
     ]
    }
   ],
   "source": [
    "#chamada funções\n",
    "def main():\n",
    "    getAllFiles()\n",
    "\n",
    "#main\n",
    "if __name__ == '__main__':\n",
    "    main()"
   ],
   "metadata": {
    "collapsed": false,
    "pycharm": {
     "name": "#%%\n"
    }
   }
  }
 ],
 "metadata": {
  "kernelspec": {
   "display_name": "Python 3",
   "language": "python",
   "name": "python3"
  },
  "language_info": {
   "codemirror_mode": {
    "name": "ipython",
    "version": 2
   },
   "file_extension": ".py",
   "mimetype": "text/x-python",
   "name": "python",
   "nbconvert_exporter": "python",
   "pygments_lexer": "ipython2",
   "version": "2.7.6"
  }
 },
 "nbformat": 4,
 "nbformat_minor": 0
}